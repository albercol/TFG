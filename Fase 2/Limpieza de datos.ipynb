{
 "cells": [
  {
   "cell_type": "code",
   "execution_count": 8,
   "metadata": {},
   "outputs": [],
   "source": [
    "# la fecha como año mes dia y hora\n",
    "import datetime, time\n",
    "def fechaYFechaHora(df):\n",
    "    fechahoras = []\n",
    "    fechas=[]\n",
    "    for _,row in df.iterrows():\n",
    "        fecha = str(int(row.DIA))+\"/\"+\\\n",
    "                str(int(row.MES))+\"/\"+\\\n",
    "                str(int(row.ANO))\n",
    "        fechahora = fecha+\"-\"+str(int(row.HORA-1)) # para que sea de 0 a 23\n",
    "        #print(fechahora)\n",
    "        fechahoras.append(datetime.datetime.strptime(fechahora,\"%d/%m/%Y-%H\"))\n",
    "        fechas.append(fecha)\n",
    "    df['fechaH'] = fechahoras\n",
    "    df['fecha'] = fechas\n",
    "    df['fecha'] = pd.to_datetime(df['fecha'])\n",
    "    return df"
   ]
  },
  {
   "cell_type": "markdown",
   "metadata": {},
   "source": [
    "##### Limpieza de datos del archivo de contaminacion\n",
    "Eliminacion de columnas 'PROVINCIA', 'MUNICIPIO', 'ESTACION', 'PUNTO_MUESTREO', 'source_file'.\n",
    "\n",
    "Mirar si hay fechas repetidas. (NO)"
   ]
  },
  {
   "cell_type": "code",
   "execution_count": 9,
   "metadata": {},
   "outputs": [],
   "source": [
    "import pandas as pd\n",
    "import os\n",
    "path = os.getcwd()\n",
    "os.makedirs(path + \"/DatosLimpios\", exist_ok=True)\n",
    "fichero = \"https://raw.githubusercontent.com/albercol/TFG/main/Fase%201.3/PlazaEliptica/ContaminacionPlazaEliptica.csv\"\n",
    "df =  pd.read_csv(fichero,encoding=\"UTF-8\")\n",
    "df = df.drop(['PROVINCIA', 'MUNICIPIO', 'ESTACION', 'PUNTO_MUESTREO', 'source_file', 'V01','V02', 'V03','V04',\n",
    "             'V05','V06','V07','V08', 'V09','V10','V11', 'V12', 'V13','V14', 'V15','V16','V17','V18','V19','V20',\n",
    "             'V21','V22','V23', 'V24'], axis=1)\n",
    "\n",
    "df.sort_values(['ANO','MES','DIA', 'MAGNITUD'], inplace=True)\n",
    "\n",
    "#convertimos las horas en una unica columna.\n",
    "df1 = pd.melt(df, id_vars =['DIA','MES','ANO','MAGNITUD'], var_name= \"HORA\")\n",
    "#Ordenamos por magnitud.\n",
    "df1.sort_values(['ANO','MES','DIA', 'MAGNITUD'], inplace=True)\n",
    "#Convertimos las magnitudes en distintas columnas.\n",
    "df2 = pd.pivot_table(df1, index=['DIA','MES','ANO','HORA'], columns=[\"MAGNITUD\"],values='value').reset_index()\n",
    "#Renombramos las columnas.\n",
    "df2.set_axis(['DIA', 'MES', 'ANO', 'HORA', 'CO' , 'NO', 'NO2', 'PM2.5', 'PM10', 'NOx', 'O3'], axis='columns', inplace=True)\n",
    "#Transformamos el formato hora a numeros enteros\n",
    "df2['HORA'] = df2['HORA'].str.extract('(\\d+)', expand=False)\n",
    "df2['HORA'] = df2['HORA'].astype(int)\n",
    "df2 = fechaYFechaHora(df2)\n",
    "#Guardamos en .CSV\n",
    "df2.to_csv(path+\"/DatosLimpios/\"+\"Contaminacion.csv\", header=True, index=False, encoding=\"utf-8\")"
   ]
  },
  {
   "cell_type": "markdown",
   "metadata": {},
   "source": [
    "#### Limpieza de datos del archivo de Meteorología.\n",
    "Eliminacion de columnas ('PROVINCIA', 'MUNICIPIO', 'ESTACION', 'PUNTO_MUESTREO', 'source_file') (SI)\n",
    "\n",
    "Mirar si hay fechas repetidas. (NO)"
   ]
  },
  {
   "cell_type": "code",
   "execution_count": 10,
   "metadata": {},
   "outputs": [],
   "source": [
    "import pandas as pd\n",
    "import os\n",
    "path = os.getcwd()\n",
    "os.makedirs(path + \"/DatosLimpios\", exist_ok=True)\n",
    "fichero = \"https://raw.githubusercontent.com/albercol/TFG/main/Fase%201.3/PlazaEliptica/MeteorologiaPlazaEliptica.csv\"\n",
    "df =  pd.read_csv(fichero,encoding=\"UTF-8\")\n",
    "df = df.drop(['PROVINCIA', 'MUNICIPIO', 'ESTACION', 'PUNTO_MUESTREO', 'source_file', 'V01','V02', 'V03','V04',\n",
    "             'V05','V06','V07','V08', 'V09','V10','V11', 'V12', 'V13','V14', 'V15','V16','V17','V18','V19','V20',\n",
    "             'V21','V22','V23', 'V24'], axis=1)\n",
    "\n",
    "df.sort_values(['ANO','MES','DIA', 'MAGNITUD'], inplace=True)\n",
    "\n",
    "#convertimos las horas en una unica columna.\n",
    "df1 = pd.melt(df, id_vars =['DIA','MES','ANO','MAGNITUD'], var_name= \"HORA\")\n",
    "#Ordenamos por magnitud.\n",
    "df1.sort_values(['ANO','MES','DIA', 'MAGNITUD'], inplace=True)\n",
    "#Convertimos las magnitudes en distintas columnas.\n",
    "df2 = pd.pivot_table(df1, index=['DIA','MES','ANO','HORA'], columns=[\"MAGNITUD\"] ,values='value').reset_index()\n",
    "df2.set_axis(['DIA', 'MES', 'ANO', 'HORA', 'VELOCIDAD VIENTO' , 'DIR. VIENTO', 'TEMPERATURA', 'HUMEDAD RELATIVA', 'PRESION BARIOMETRICA', 'PRECIPITACIONES'], axis='columns', inplace=True)\n",
    "#Transformamos el formato hora a numeros enteros\n",
    "df2['HORA'] = df2['HORA'].str.extract('(\\d+)', expand=False)\n",
    "df2['HORA'] = df2['HORA'].astype(int)\n",
    "df2 = fechaYFechaHora(df2)\n",
    "#Guardamos en .CSV\n",
    "df2.to_csv(path+\"/DatosLimpios/\"+\"Meteorologia.csv\", header=True, index=False, encoding=\"utf-8\")"
   ]
  },
  {
   "cell_type": "markdown",
   "metadata": {},
   "source": [
    "#### Limpieza de datos del archivo de trafico.\n",
    "Separar la fecha en tres columnas.(SI)\n",
    "\n",
    "Mirar si hay fechas repetidas. (NO)"
   ]
  },
  {
   "cell_type": "code",
   "execution_count": 11,
   "metadata": {},
   "outputs": [],
   "source": [
    "import pandas as pd\n",
    "import os\n",
    "path = os.getcwd()\n",
    "os.makedirs(path + \"/DatosLimpios\", exist_ok=True)\n",
    "\n",
    "#Separamos la fecha en tres columnas y eliminamos la columna 'FDIA'\n",
    "fichero = \"https://raw.githubusercontent.com/albercol/TFG/main/Fase%201.3/PlazaEliptica/TraficoPlazaEliptica.csv\"\n",
    "df =  pd.read_csv(fichero,encoding=\"UTF-8\")\n",
    "df['FDIA'] = pd.to_datetime(df['FDIA'], dayfirst=True)\n",
    "df.insert(2, 'DIA', df.mean(1))\n",
    "df.insert(2, 'MES', df.mean(1))\n",
    "df.insert(2, 'ANO', df.mean(1))\n",
    "df['DIA']=df['FDIA'].dt.day\n",
    "df['MES']=df['FDIA'].dt.month\n",
    "df['ANO']=df['FDIA'].dt.year\n",
    "df = df.drop(['FDIA'], axis=1)\n",
    "\n",
    "freq = df.groupby(['ANO', 'MES', 'DIA']).size()\n",
    "\n",
    "#Ordenamos por año, mes dia y estacion.\n",
    "df.sort_values(['ANO','MES','DIA', 'FEST'], inplace=True)\n",
    "df \n",
    "#convertimos las horas en una unica columna.\n",
    "df1 = pd.melt(df, id_vars =['DIA','MES','ANO','FEST'], var_name= \"HORA\")\n",
    "#Ordenamos por magnitud.\n",
    "df1.sort_values(['ANO','MES','DIA', 'FEST'], inplace=True)\n",
    "#Convertimos las magnitudes en distintas columnas.\n",
    "df2 = pd.pivot_table(df1, index=['DIA','MES','ANO','HORA'], columns=[\"FEST\"] ,values='value').reset_index()\n",
    "#Transformamos el formato hora a numeros enteros\n",
    "df2['HORA'] = df2['HORA'].str.extract('(\\d+)', expand=False)\n",
    "df2['HORA'] = df2['HORA'].astype(int)\n",
    "df2.sort_values(['DIA','MES','ANO', 'HORA'], inplace=True)\n",
    "df2 = fechaYFechaHora(df2)\n",
    "#Guardamos en .CSV\n",
    "df2.to_csv(path+\"/DatosLimpios/\"+\"Trafico.csv\", header=True, index=False, encoding=\"utf-8\")"
   ]
  },
  {
   "cell_type": "code",
   "execution_count": null,
   "metadata": {},
   "outputs": [],
   "source": []
  }
 ],
 "metadata": {
  "kernelspec": {
   "display_name": "Python 3",
   "language": "python",
   "name": "python3"
  },
  "language_info": {
   "codemirror_mode": {
    "name": "ipython",
    "version": 3
   },
   "file_extension": ".py",
   "mimetype": "text/x-python",
   "name": "python",
   "nbconvert_exporter": "python",
   "pygments_lexer": "ipython3",
   "version": "3.7.4"
  }
 },
 "nbformat": 4,
 "nbformat_minor": 4
}
