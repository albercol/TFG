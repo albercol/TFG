{
 "cells": [
  {
   "cell_type": "code",
   "execution_count": 1,
   "id": "03f13206-946a-49c0-8511-a9fd7cf2a9c4",
   "metadata": {},
   "outputs": [
    {
     "name": "stdout",
     "output_type": "stream",
     "text": [
      "El mae con el modelo naïve:  8.55195865070729\n"
     ]
    }
   ],
   "source": [
    "from sklearn.metrics import mean_absolute_error\n",
    "import pandas as pd\n",
    "\n",
    "url =\"https://raw.githubusercontent.com/albercol/TFG/main/Fase2/Fase%202.3/DatosUnificados/Cont_Meteo_Traf.csv\"\n",
    "df = pd.read_csv(url,parse_dates=['FECHAH'])\n",
    "df = df.dropna()\n",
    "df[\"hora\"] = df['FECHAH'].dt.hour\n",
    "\n",
    "valores = df.TIPO.unique()\n",
    "for v in valores:\n",
    "    df[v] = df.TIPO.apply(lambda x: 1 if x==v else 0)\n",
    "\n",
    "\"\"\"\n",
    "Con este metodo se intenta predecir con la hora anterior.\n",
    "\"\"\"\n",
    "#Añadimos una columna pred con el desplazamiento (la hora anterior) en este caso para NO2 (No deberiamos predecir algo peor en el model de RandomForest)\n",
    "df[\"pred\"] = df.NO2.shift(+1)\n",
    "mae = mean_absolute_error(df[1:].NO2, df[1:].pred)\n",
    "print(\"El mae con el modelo naïve: \", mae)"
   ]
  },
  {
   "cell_type": "code",
   "execution_count": null,
   "id": "fd7f378a-e2a6-4fd1-a0ec-3863512644b7",
   "metadata": {},
   "outputs": [],
   "source": []
  }
 ],
 "metadata": {
  "kernelspec": {
   "display_name": "Python 3 (ipykernel)",
   "language": "python",
   "name": "python3"
  },
  "language_info": {
   "codemirror_mode": {
    "name": "ipython",
    "version": 3
   },
   "file_extension": ".py",
   "mimetype": "text/x-python",
   "name": "python",
   "nbconvert_exporter": "python",
   "pygments_lexer": "ipython3",
   "version": "3.9.7"
  }
 },
 "nbformat": 4,
 "nbformat_minor": 5
}
