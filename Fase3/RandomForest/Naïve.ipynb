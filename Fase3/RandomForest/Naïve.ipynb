{
 "cells": [
  {
   "cell_type": "code",
   "execution_count": 1,
   "id": "03f13206-946a-49c0-8511-a9fd7cf2a9c4",
   "metadata": {},
   "outputs": [
    {
     "data": {
      "text/html": [
       "<div>\n",
       "<style scoped>\n",
       "    .dataframe tbody tr th:only-of-type {\n",
       "        vertical-align: middle;\n",
       "    }\n",
       "\n",
       "    .dataframe tbody tr th {\n",
       "        vertical-align: top;\n",
       "    }\n",
       "\n",
       "    .dataframe thead th {\n",
       "        text-align: right;\n",
       "    }\n",
       "</style>\n",
       "<table border=\"1\" class=\"dataframe\">\n",
       "  <thead>\n",
       "    <tr style=\"text-align: right;\">\n",
       "      <th></th>\n",
       "      <th>FECHAH</th>\n",
       "      <th>TIPO</th>\n",
       "      <th>CO</th>\n",
       "      <th>NO</th>\n",
       "      <th>NO2</th>\n",
       "      <th>PM2.5</th>\n",
       "      <th>PM10</th>\n",
       "      <th>NOx</th>\n",
       "      <th>O3</th>\n",
       "      <th>VELOCIDAD VIENTO</th>\n",
       "      <th>...</th>\n",
       "      <th>PRESION BAROMETRICA</th>\n",
       "      <th>PRECIPITACIONES</th>\n",
       "      <th>ES10</th>\n",
       "      <th>ES53</th>\n",
       "      <th>ESSUMA</th>\n",
       "      <th>hora</th>\n",
       "      <th>LABORABLE</th>\n",
       "      <th>SABADO</th>\n",
       "      <th>DOMINGO</th>\n",
       "      <th>FESTIVO</th>\n",
       "    </tr>\n",
       "  </thead>\n",
       "  <tbody>\n",
       "    <tr>\n",
       "      <th>5035</th>\n",
       "      <td>2019-08-01 00:00:00</td>\n",
       "      <td>LABORABLE</td>\n",
       "      <td>0.2</td>\n",
       "      <td>4.0</td>\n",
       "      <td>22.0</td>\n",
       "      <td>10.0</td>\n",
       "      <td>19.0</td>\n",
       "      <td>29.0</td>\n",
       "      <td>58.87</td>\n",
       "      <td>1.84</td>\n",
       "      <td>...</td>\n",
       "      <td>943.0</td>\n",
       "      <td>0.0</td>\n",
       "      <td>223.0</td>\n",
       "      <td>347.0</td>\n",
       "      <td>570.0</td>\n",
       "      <td>0</td>\n",
       "      <td>1</td>\n",
       "      <td>0</td>\n",
       "      <td>0</td>\n",
       "      <td>0</td>\n",
       "    </tr>\n",
       "    <tr>\n",
       "      <th>5036</th>\n",
       "      <td>2019-08-01 01:00:00</td>\n",
       "      <td>LABORABLE</td>\n",
       "      <td>0.2</td>\n",
       "      <td>2.0</td>\n",
       "      <td>15.0</td>\n",
       "      <td>10.0</td>\n",
       "      <td>21.0</td>\n",
       "      <td>18.0</td>\n",
       "      <td>63.73</td>\n",
       "      <td>1.97</td>\n",
       "      <td>...</td>\n",
       "      <td>943.0</td>\n",
       "      <td>0.0</td>\n",
       "      <td>173.0</td>\n",
       "      <td>231.0</td>\n",
       "      <td>404.0</td>\n",
       "      <td>1</td>\n",
       "      <td>1</td>\n",
       "      <td>0</td>\n",
       "      <td>0</td>\n",
       "      <td>0</td>\n",
       "    </tr>\n",
       "    <tr>\n",
       "      <th>5037</th>\n",
       "      <td>2019-08-01 02:00:00</td>\n",
       "      <td>LABORABLE</td>\n",
       "      <td>0.1</td>\n",
       "      <td>4.0</td>\n",
       "      <td>14.0</td>\n",
       "      <td>9.0</td>\n",
       "      <td>18.0</td>\n",
       "      <td>19.0</td>\n",
       "      <td>66.50</td>\n",
       "      <td>1.72</td>\n",
       "      <td>...</td>\n",
       "      <td>943.0</td>\n",
       "      <td>0.0</td>\n",
       "      <td>107.0</td>\n",
       "      <td>180.0</td>\n",
       "      <td>287.0</td>\n",
       "      <td>2</td>\n",
       "      <td>1</td>\n",
       "      <td>0</td>\n",
       "      <td>0</td>\n",
       "      <td>0</td>\n",
       "    </tr>\n",
       "    <tr>\n",
       "      <th>5038</th>\n",
       "      <td>2019-08-01 03:00:00</td>\n",
       "      <td>LABORABLE</td>\n",
       "      <td>0.1</td>\n",
       "      <td>1.0</td>\n",
       "      <td>14.0</td>\n",
       "      <td>10.0</td>\n",
       "      <td>18.0</td>\n",
       "      <td>15.0</td>\n",
       "      <td>66.62</td>\n",
       "      <td>1.55</td>\n",
       "      <td>...</td>\n",
       "      <td>943.0</td>\n",
       "      <td>0.0</td>\n",
       "      <td>80.0</td>\n",
       "      <td>129.0</td>\n",
       "      <td>209.0</td>\n",
       "      <td>3</td>\n",
       "      <td>1</td>\n",
       "      <td>0</td>\n",
       "      <td>0</td>\n",
       "      <td>0</td>\n",
       "    </tr>\n",
       "    <tr>\n",
       "      <th>5039</th>\n",
       "      <td>2019-08-01 04:00:00</td>\n",
       "      <td>LABORABLE</td>\n",
       "      <td>0.2</td>\n",
       "      <td>2.0</td>\n",
       "      <td>15.0</td>\n",
       "      <td>10.0</td>\n",
       "      <td>19.0</td>\n",
       "      <td>18.0</td>\n",
       "      <td>62.57</td>\n",
       "      <td>1.13</td>\n",
       "      <td>...</td>\n",
       "      <td>943.0</td>\n",
       "      <td>0.0</td>\n",
       "      <td>89.0</td>\n",
       "      <td>105.0</td>\n",
       "      <td>194.0</td>\n",
       "      <td>4</td>\n",
       "      <td>1</td>\n",
       "      <td>0</td>\n",
       "      <td>0</td>\n",
       "      <td>0</td>\n",
       "    </tr>\n",
       "  </tbody>\n",
       "</table>\n",
       "<p>5 rows × 23 columns</p>\n",
       "</div>"
      ],
      "text/plain": [
       "                  FECHAH       TIPO   CO   NO   NO2  PM2.5  PM10   NOx     O3  \\\n",
       "5035 2019-08-01 00:00:00  LABORABLE  0.2  4.0  22.0   10.0  19.0  29.0  58.87   \n",
       "5036 2019-08-01 01:00:00  LABORABLE  0.2  2.0  15.0   10.0  21.0  18.0  63.73   \n",
       "5037 2019-08-01 02:00:00  LABORABLE  0.1  4.0  14.0    9.0  18.0  19.0  66.50   \n",
       "5038 2019-08-01 03:00:00  LABORABLE  0.1  1.0  14.0   10.0  18.0  15.0  66.62   \n",
       "5039 2019-08-01 04:00:00  LABORABLE  0.2  2.0  15.0   10.0  19.0  18.0  62.57   \n",
       "\n",
       "      VELOCIDAD VIENTO  ...  PRESION BAROMETRICA  PRECIPITACIONES   ES10  \\\n",
       "5035              1.84  ...                943.0              0.0  223.0   \n",
       "5036              1.97  ...                943.0              0.0  173.0   \n",
       "5037              1.72  ...                943.0              0.0  107.0   \n",
       "5038              1.55  ...                943.0              0.0   80.0   \n",
       "5039              1.13  ...                943.0              0.0   89.0   \n",
       "\n",
       "       ES53  ESSUMA  hora  LABORABLE  SABADO  DOMINGO  FESTIVO  \n",
       "5035  347.0   570.0     0          1       0        0        0  \n",
       "5036  231.0   404.0     1          1       0        0        0  \n",
       "5037  180.0   287.0     2          1       0        0        0  \n",
       "5038  129.0   209.0     3          1       0        0        0  \n",
       "5039  105.0   194.0     4          1       0        0        0  \n",
       "\n",
       "[5 rows x 23 columns]"
      ]
     },
     "execution_count": 1,
     "metadata": {},
     "output_type": "execute_result"
    }
   ],
   "source": [
    "import pandas as pd\n",
    "from sklearn.metrics import mean_absolute_error\n",
    "\n",
    "\n",
    "url =\"https://raw.githubusercontent.com/albercol/TFG/main/Fase2/Fase%202.3/DatosUnificados/Cont_Meteo_Traf.csv\"\n",
    "df = pd.read_csv(url,parse_dates=['FECHAH'])\n",
    "df = df.dropna()\n",
    "df[\"hora\"] = df['FECHAH'].dt.hour\n",
    "\n",
    "valores = df.TIPO.unique()\n",
    "for v in valores:\n",
    "    df[v] = df.TIPO.apply(lambda x: 1 if x==v else 0)\n",
    "df.head()"
   ]
  },
  {
   "cell_type": "markdown",
   "id": "802d371e-66e2-4c60-a362-d838f55248ec",
   "metadata": {
    "tags": []
   },
   "source": [
    "# Método Naïve CO"
   ]
  },
  {
   "cell_type": "code",
   "execution_count": 6,
   "id": "e4540e19-272c-4617-85ca-c305dc739482",
   "metadata": {},
   "outputs": [
    {
     "name": "stdout",
     "output_type": "stream",
     "text": [
      "El mae con el modelo naïve para el CO:  0.05758977149075081\n"
     ]
    }
   ],
   "source": [
    "\"\"\"\n",
    "Con este metodo se intenta predecir con la hora anterior.\n",
    "\"\"\"\n",
    "#Añadimos una columna pred con el desplazamiento (la hora anterior) en este caso para NO2 (No deberiamos predecir algo peor en el model de RandomForest)\n",
    "df[\"pred\"] = df.CO.shift(+1)\n",
    "mae = mean_absolute_error(df[1:].CO, df[1:].pred)\n",
    "print(\"El mae con el modelo naïve para el CO: \", mae)\n",
    "df = df.drop(columns=['pred'])"
   ]
  },
  {
   "cell_type": "markdown",
   "id": "b78cfc94-34e5-4006-be6f-fdf43255052d",
   "metadata": {
    "tags": []
   },
   "source": [
    "# Método Naïve NO2"
   ]
  },
  {
   "cell_type": "code",
   "execution_count": 7,
   "id": "e9ab007b-ee0d-47ab-83f9-99c96a4c10ea",
   "metadata": {},
   "outputs": [
    {
     "name": "stdout",
     "output_type": "stream",
     "text": [
      "El mae con el modelo naïve para el NO2:  8.55195865070729\n"
     ]
    }
   ],
   "source": [
    "\"\"\"\n",
    "Con este metodo se intenta predecir con la hora anterior.\n",
    "\"\"\"\n",
    "#Añadimos una columna pred con el desplazamiento (la hora anterior) en este caso para NO2 (No deberiamos predecir algo peor en el model de RandomForest)\n",
    "df[\"pred\"] = df.NO2.shift(+1)\n",
    "mae = mean_absolute_error(df[1:].NO2, df[1:].pred)\n",
    "print(\"El mae con el modelo naïve para el NO2: \", mae)\n",
    "df = df.drop(columns=['pred'])"
   ]
  },
  {
   "cell_type": "markdown",
   "id": "a6483853-5a1c-490d-8c8f-9c01e7e9d586",
   "metadata": {},
   "source": [
    "# Método Naïve PM2.5"
   ]
  },
  {
   "cell_type": "code",
   "execution_count": 16,
   "id": "c0e2e7fd-6754-4933-a45f-62dc0970f06e",
   "metadata": {},
   "outputs": [
    {
     "name": "stdout",
     "output_type": "stream",
     "text": [
      "El mae con el modelo naïve para el PM2.5:  3.0541349292709468\n"
     ]
    }
   ],
   "source": [
    "\"\"\"\n",
    "Con este metodo se intenta predecir con la hora anterior.\n",
    "\"\"\"\n",
    "df = df.rename(index=str, columns={\"PM2.5\": \"PM25\"})\n",
    "#Añadimos una columna pred con el desplazamiento (la hora anterior) en este caso para NO2 (No deberiamos predecir algo peor en el model de RandomForest)\n",
    "df[\"pred\"] = df.PM25.shift(+1)\n",
    "mae = mean_absolute_error(df[1:].PM25, df[1:].pred)\n",
    "print(\"El mae con el modelo naïve para el PM2.5: \", mae)\n",
    "df = df.drop(columns=['pred'])"
   ]
  },
  {
   "cell_type": "markdown",
   "id": "803b41de-d7c5-4679-8ddf-c2c231c16c89",
   "metadata": {},
   "source": [
    "# Método Naïve PM10"
   ]
  },
  {
   "cell_type": "code",
   "execution_count": 18,
   "id": "b72daced-8ccc-4f8a-82fc-7aafdfbc6ed1",
   "metadata": {},
   "outputs": [
    {
     "name": "stdout",
     "output_type": "stream",
     "text": [
      "El mae con el modelo naïve para el PM10:  3.7832562568008705\n"
     ]
    }
   ],
   "source": [
    "\"\"\"\n",
    "Con este metodo se intenta predecir con la hora anterior.\n",
    "\"\"\"\n",
    "#Añadimos una columna pred con el desplazamiento (la hora anterior) en este caso para NO2 (No deberiamos predecir algo peor en el model de RandomForest)\n",
    "df[\"pred\"] = df.PM10.shift(+1)\n",
    "mae = mean_absolute_error(df[1:].PM10, df[1:].pred)\n",
    "print(\"El mae con el modelo naïve para el PM10: \", mae)\n",
    "df = df.drop(columns=['pred'])"
   ]
  },
  {
   "cell_type": "markdown",
   "id": "e6464d9e-be53-4c86-8549-17a696da2ccb",
   "metadata": {},
   "source": [
    "# Método Naïve O3"
   ]
  },
  {
   "cell_type": "code",
   "execution_count": 19,
   "id": "8b1246ab-9c6b-44c8-b3ea-cc8fd74ed310",
   "metadata": {},
   "outputs": [
    {
     "name": "stdout",
     "output_type": "stream",
     "text": [
      "El mae con el modelo naïve para el O3:  6.857748231773666\n"
     ]
    }
   ],
   "source": [
    "\"\"\"\n",
    "Con este metodo se intenta predecir con la hora anterior.\n",
    "\"\"\"\n",
    "#Añadimos una columna pred con el desplazamiento (la hora anterior) en este caso para NO2 (No deberiamos predecir algo peor en el model de RandomForest)\n",
    "df[\"pred\"] = df.O3.shift(+1)\n",
    "mae = mean_absolute_error(df[1:].O3, df[1:].pred)\n",
    "print(\"El mae con el modelo naïve para el O3: \", mae)\n",
    "df = df.drop(columns=['pred'])"
   ]
  }
 ],
 "metadata": {
  "kernelspec": {
   "display_name": "Python 3 (ipykernel)",
   "language": "python",
   "name": "python3"
  },
  "language_info": {
   "codemirror_mode": {
    "name": "ipython",
    "version": 3
   },
   "file_extension": ".py",
   "mimetype": "text/x-python",
   "name": "python",
   "nbconvert_exporter": "python",
   "pygments_lexer": "ipython3",
   "version": "3.9.7"
  }
 },
 "nbformat": 4,
 "nbformat_minor": 5
}
