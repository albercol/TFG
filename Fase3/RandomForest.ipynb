{
 "cells": [
  {
   "cell_type": "code",
   "execution_count": 1,
   "id": "4e8bfdab-78c0-4ec0-ba6a-90b6b0f45384",
   "metadata": {},
   "outputs": [],
   "source": [
    "#AutoCompletar funciones.\n",
    "%config IPCompleter.greedy=True"
   ]
  },
  {
   "cell_type": "code",
   "execution_count": 2,
   "id": "36834d7e-6492-489c-b94f-6f03c6e52f6e",
   "metadata": {},
   "outputs": [],
   "source": [
    "import pandas as pd\n",
    "import matplotlib.pyplot as plt\n",
    "%matplotlib inline\n",
    "from sklearn.ensemble import RandomForestRegressor\n",
    "from sklearn.metrics import mean_squared_error,mean_absolute_error\n",
    "from sklearn.model_selection import train_test_split"
   ]
  },
  {
   "cell_type": "code",
   "execution_count": 3,
   "id": "e51aad99-f1d9-400c-9531-2e4981094c90",
   "metadata": {},
   "outputs": [],
   "source": [
    "#Descargo el archivo unificado de la fase anterior (2.3) \n",
    "fichero = \"https://raw.githubusercontent.com/albercol/TFG/main/Fase2/Fase%202.3/DatosUnificados/Cont_Meteo_Traf.csv\"\n",
    "df =  pd.read_csv(fichero,encoding=\"UTF-8\")\n",
    "df['FECHAH'] = pd.to_datetime(df['FECHAH'])\n",
    "#df.dtypes\n",
    "### Random Forest para NO2"
   ]
  },
  {
   "cell_type": "markdown",
   "id": "4e1bbe03-76da-4a55-a215-8d8b158ba63b",
   "metadata": {},
   "source": [
    "## Random Forest aislando el contaminante\n",
    "Prueba, si excluyendo el resto de contaminantes y quedandonos solo con el NO2 cual es la capacidad del algoritmo de predecir su comportamiento. "
   ]
  },
  {
   "cell_type": "code",
   "execution_count": 19,
   "id": "df55f7a3-8953-4899-9f7c-2e4c2e7976a3",
   "metadata": {},
   "outputs": [
    {
     "name": "stdout",
     "output_type": "stream",
     "text": [
      "Rmse: 15.641652015373403 MAE: 10.842547735191637\n"
     ]
    }
   ],
   "source": [
    "df2 = df.iloc[:,9:]\n",
    "#Añadimos a df2 la columna correspondiente a NO2\n",
    "df2[\"NO2\"] = df[\"NO2\"]\n",
    "df2['ES10'] = df2['ES10'].shift(1)\n",
    "df2['ES53'] = df2['ES53'].shift(1)\n",
    "#Eliminamos las filas que contengan valores nulos y guardamos en df3\n",
    "df3 = df2.dropna()\n",
    "\n",
    "#asignamos a la y la columna de NO2 el resto a la x \n",
    "y = df3.NO2\n",
    "X = df3.iloc[:,:-1]\n",
    "\n",
    "regr = RandomForestRegressor(max_depth=70, n_estimators =100, random_state=0)\n",
    "\n",
    "#Dividimos el model de entrenamiento y test \n",
    "X_train, X_test, y_train, y_test = train_test_split( X, y, test_size=0.33, random_state=42)\n",
    "modelo = regr.fit(X_train, y_train)\n",
    "y_pred = modelo.predict(X_test)\n",
    "\n",
    "#Calculamos el RMSE y MAE (rmse El error)\n",
    "rmse = mean_squared_error(y_test, y_pred, squared=False)\n",
    "mae = mean_absolute_error(y_test, y_pred)\n",
    "print(\"Rmse:\",rmse,\"MAE:\",mae)"
   ]
  },
  {
   "cell_type": "code",
   "execution_count": 20,
   "id": "f6c518c9-7345-4973-b7ab-0d4b8fd27d04",
   "metadata": {},
   "outputs": [
    {
     "data": {
      "text/plain": [
       "(21742, 14567, 7175)"
      ]
     },
     "execution_count": 20,
     "metadata": {},
     "output_type": "execute_result"
    }
   ],
   "source": [
    "len(X),len(X_train),len(X_test)"
   ]
  },
  {
   "cell_type": "code",
   "execution_count": 21,
   "id": "9825bb47-f331-4d65-9a33-15947c99c4aa",
   "metadata": {},
   "outputs": [],
   "source": [
    "y_pred = modelo.predict(X_test)\n",
    "ys = list(zip(list(y_test),list(y_pred)))"
   ]
  },
  {
   "cell_type": "markdown",
   "id": "bb368167-e6b8-426a-bc6f-40b0e2baace8",
   "metadata": {},
   "source": [
    "##### Representacion grafica de Random Forest\n",
    "Se puede apreciar en la grafica que si se añaden el resto de contaminantes, excluyendo el NO y NOx puede predecir de forma eficiente el comportamiento de la contaminación"
   ]
  },
  {
   "cell_type": "code",
   "execution_count": 22,
   "id": "94d4d34f-b338-440c-96cf-4ea8a34d9fb4",
   "metadata": {},
   "outputs": [
    {
     "data": {
      "image/png": "[encoded data removed]",
      "text/plain": [
       "<Figure size 400x400 with 1 Axes>"
      ]
     },
     "metadata": {
      "needs_background": "light"
     },
     "output_type": "display_data"
    }
   ],
   "source": [
    "cuantos = 100\n",
    "ypred = y_pred[:cuantos]\n",
    "ylabel = list(y_test)[:cuantos]\n",
    "x = list(range(len(ylabel)))\n",
    "plt.rcParams[\"font.size\"] = 10\n",
    "figure, ax = plt.subplots(1,figsize=(4, 4),dpi=100)    \n",
    "for i in range(len(x)):\n",
    "    plt.plot([x[i],x[i]],[ypred[i],ylabel[i]],color=\"darkorange\")\n",
    "\n",
    "plt.scatter(x,ypred, color='blue', label=\"pred\",s=8)\n",
    "plt.scatter(x,ylabel, color='green', label=\"label\",s=4)\n",
    "\n",
    "\n",
    "plt.xlabel('x')\n",
    "plt.ylabel('y')\n",
    "plt.legend()\n",
    "plt.show()"
   ]
  },
  {
   "cell_type": "markdown",
   "id": "674ff9d4-ea19-448f-a748-e7481b31d178",
   "metadata": {},
   "source": [
    "## Random Forest con el resto de contaminantes\n",
    "Predicción incluyendo el resto de contaminantes quitando el NOx y NO."
   ]
  },
  {
   "cell_type": "code",
   "execution_count": 23,
   "id": "f38fb09d-4a4f-4591-a77c-b9a2c2dc7037",
   "metadata": {},
   "outputs": [
    {
     "data": {
      "text/html": [
       "<div>\n",
       "<style scoped>\n",
       "    .dataframe tbody tr th:only-of-type {\n",
       "        vertical-align: middle;\n",
       "    }\n",
       "\n",
       "    .dataframe tbody tr th {\n",
       "        vertical-align: top;\n",
       "    }\n",
       "\n",
       "    .dataframe thead th {\n",
       "        text-align: right;\n",
       "    }\n",
       "</style>\n",
       "<table border=\"1\" class=\"dataframe\">\n",
       "  <thead>\n",
       "    <tr style=\"text-align: right;\">\n",
       "      <th></th>\n",
       "      <th>NO2</th>\n",
       "      <th>CO</th>\n",
       "      <th>PM2.5</th>\n",
       "      <th>PM10</th>\n",
       "      <th>O3</th>\n",
       "      <th>VELOCIDAD VIENTO</th>\n",
       "      <th>DIR. VIENTO</th>\n",
       "      <th>TEMPERATURA</th>\n",
       "      <th>HUMEDAD RELATIVA</th>\n",
       "      <th>PRESION BAROMETRICA</th>\n",
       "      <th>PRECIPITACIONES</th>\n",
       "      <th>ES10</th>\n",
       "      <th>ES53</th>\n",
       "    </tr>\n",
       "  </thead>\n",
       "  <tbody>\n",
       "    <tr>\n",
       "      <th>0</th>\n",
       "      <td>73.0</td>\n",
       "      <td>0.6</td>\n",
       "      <td>NaN</td>\n",
       "      <td>NaN</td>\n",
       "      <td>3.08</td>\n",
       "      <td>0.68</td>\n",
       "      <td>48.0</td>\n",
       "      <td>2.6</td>\n",
       "      <td>71.0</td>\n",
       "      <td>959.0</td>\n",
       "      <td>0.0</td>\n",
       "      <td>NaN</td>\n",
       "      <td>NaN</td>\n",
       "    </tr>\n",
       "    <tr>\n",
       "      <th>1</th>\n",
       "      <td>82.0</td>\n",
       "      <td>0.8</td>\n",
       "      <td>NaN</td>\n",
       "      <td>NaN</td>\n",
       "      <td>3.05</td>\n",
       "      <td>0.69</td>\n",
       "      <td>32.0</td>\n",
       "      <td>2.5</td>\n",
       "      <td>71.0</td>\n",
       "      <td>959.0</td>\n",
       "      <td>0.0</td>\n",
       "      <td>415.0</td>\n",
       "      <td>489.0</td>\n",
       "    </tr>\n",
       "    <tr>\n",
       "      <th>2</th>\n",
       "      <td>72.0</td>\n",
       "      <td>0.7</td>\n",
       "      <td>NaN</td>\n",
       "      <td>NaN</td>\n",
       "      <td>3.13</td>\n",
       "      <td>0.70</td>\n",
       "      <td>43.0</td>\n",
       "      <td>1.7</td>\n",
       "      <td>74.0</td>\n",
       "      <td>959.0</td>\n",
       "      <td>0.0</td>\n",
       "      <td>757.0</td>\n",
       "      <td>732.0</td>\n",
       "    </tr>\n",
       "    <tr>\n",
       "      <th>3</th>\n",
       "      <td>66.0</td>\n",
       "      <td>0.6</td>\n",
       "      <td>NaN</td>\n",
       "      <td>NaN</td>\n",
       "      <td>3.02</td>\n",
       "      <td>0.70</td>\n",
       "      <td>74.0</td>\n",
       "      <td>1.1</td>\n",
       "      <td>75.0</td>\n",
       "      <td>959.0</td>\n",
       "      <td>0.0</td>\n",
       "      <td>624.0</td>\n",
       "      <td>567.0</td>\n",
       "    </tr>\n",
       "    <tr>\n",
       "      <th>4</th>\n",
       "      <td>64.0</td>\n",
       "      <td>0.6</td>\n",
       "      <td>NaN</td>\n",
       "      <td>NaN</td>\n",
       "      <td>2.98</td>\n",
       "      <td>0.66</td>\n",
       "      <td>67.0</td>\n",
       "      <td>1.2</td>\n",
       "      <td>74.0</td>\n",
       "      <td>959.0</td>\n",
       "      <td>0.0</td>\n",
       "      <td>474.0</td>\n",
       "      <td>495.0</td>\n",
       "    </tr>\n",
       "    <tr>\n",
       "      <th>...</th>\n",
       "      <td>...</td>\n",
       "      <td>...</td>\n",
       "      <td>...</td>\n",
       "      <td>...</td>\n",
       "      <td>...</td>\n",
       "      <td>...</td>\n",
       "      <td>...</td>\n",
       "      <td>...</td>\n",
       "      <td>...</td>\n",
       "      <td>...</td>\n",
       "      <td>...</td>\n",
       "      <td>...</td>\n",
       "      <td>...</td>\n",
       "    </tr>\n",
       "    <tr>\n",
       "      <th>27762</th>\n",
       "      <td>NaN</td>\n",
       "      <td>NaN</td>\n",
       "      <td>NaN</td>\n",
       "      <td>NaN</td>\n",
       "      <td>NaN</td>\n",
       "      <td>NaN</td>\n",
       "      <td>NaN</td>\n",
       "      <td>NaN</td>\n",
       "      <td>NaN</td>\n",
       "      <td>NaN</td>\n",
       "      <td>NaN</td>\n",
       "      <td>461.0</td>\n",
       "      <td>639.0</td>\n",
       "    </tr>\n",
       "    <tr>\n",
       "      <th>27763</th>\n",
       "      <td>NaN</td>\n",
       "      <td>NaN</td>\n",
       "      <td>NaN</td>\n",
       "      <td>NaN</td>\n",
       "      <td>NaN</td>\n",
       "      <td>NaN</td>\n",
       "      <td>NaN</td>\n",
       "      <td>NaN</td>\n",
       "      <td>NaN</td>\n",
       "      <td>NaN</td>\n",
       "      <td>NaN</td>\n",
       "      <td>538.0</td>\n",
       "      <td>654.0</td>\n",
       "    </tr>\n",
       "    <tr>\n",
       "      <th>27764</th>\n",
       "      <td>NaN</td>\n",
       "      <td>NaN</td>\n",
       "      <td>NaN</td>\n",
       "      <td>NaN</td>\n",
       "      <td>NaN</td>\n",
       "      <td>NaN</td>\n",
       "      <td>NaN</td>\n",
       "      <td>NaN</td>\n",
       "      <td>NaN</td>\n",
       "      <td>NaN</td>\n",
       "      <td>NaN</td>\n",
       "      <td>495.0</td>\n",
       "      <td>603.0</td>\n",
       "    </tr>\n",
       "    <tr>\n",
       "      <th>27765</th>\n",
       "      <td>NaN</td>\n",
       "      <td>NaN</td>\n",
       "      <td>NaN</td>\n",
       "      <td>NaN</td>\n",
       "      <td>NaN</td>\n",
       "      <td>NaN</td>\n",
       "      <td>NaN</td>\n",
       "      <td>NaN</td>\n",
       "      <td>NaN</td>\n",
       "      <td>NaN</td>\n",
       "      <td>NaN</td>\n",
       "      <td>380.0</td>\n",
       "      <td>485.0</td>\n",
       "    </tr>\n",
       "    <tr>\n",
       "      <th>27766</th>\n",
       "      <td>NaN</td>\n",
       "      <td>NaN</td>\n",
       "      <td>NaN</td>\n",
       "      <td>NaN</td>\n",
       "      <td>NaN</td>\n",
       "      <td>NaN</td>\n",
       "      <td>NaN</td>\n",
       "      <td>NaN</td>\n",
       "      <td>NaN</td>\n",
       "      <td>NaN</td>\n",
       "      <td>NaN</td>\n",
       "      <td>652.0</td>\n",
       "      <td>731.0</td>\n",
       "    </tr>\n",
       "  </tbody>\n",
       "</table>\n",
       "<p>27767 rows × 13 columns</p>\n",
       "</div>"
      ],
      "text/plain": [
       "        NO2   CO  PM2.5  PM10    O3  VELOCIDAD VIENTO  DIR. VIENTO  \\\n",
       "0      73.0  0.6    NaN   NaN  3.08              0.68         48.0   \n",
       "1      82.0  0.8    NaN   NaN  3.05              0.69         32.0   \n",
       "2      72.0  0.7    NaN   NaN  3.13              0.70         43.0   \n",
       "3      66.0  0.6    NaN   NaN  3.02              0.70         74.0   \n",
       "4      64.0  0.6    NaN   NaN  2.98              0.66         67.0   \n",
       "...     ...  ...    ...   ...   ...               ...          ...   \n",
       "27762   NaN  NaN    NaN   NaN   NaN               NaN          NaN   \n",
       "27763   NaN  NaN    NaN   NaN   NaN               NaN          NaN   \n",
       "27764   NaN  NaN    NaN   NaN   NaN               NaN          NaN   \n",
       "27765   NaN  NaN    NaN   NaN   NaN               NaN          NaN   \n",
       "27766   NaN  NaN    NaN   NaN   NaN               NaN          NaN   \n",
       "\n",
       "       TEMPERATURA  HUMEDAD RELATIVA  PRESION BAROMETRICA  PRECIPITACIONES  \\\n",
       "0              2.6              71.0                959.0              0.0   \n",
       "1              2.5              71.0                959.0              0.0   \n",
       "2              1.7              74.0                959.0              0.0   \n",
       "3              1.1              75.0                959.0              0.0   \n",
       "4              1.2              74.0                959.0              0.0   \n",
       "...            ...               ...                  ...              ...   \n",
       "27762          NaN               NaN                  NaN              NaN   \n",
       "27763          NaN               NaN                  NaN              NaN   \n",
       "27764          NaN               NaN                  NaN              NaN   \n",
       "27765          NaN               NaN                  NaN              NaN   \n",
       "27766          NaN               NaN                  NaN              NaN   \n",
       "\n",
       "        ES10   ES53  \n",
       "0        NaN    NaN  \n",
       "1      415.0  489.0  \n",
       "2      757.0  732.0  \n",
       "3      624.0  567.0  \n",
       "4      474.0  495.0  \n",
       "...      ...    ...  \n",
       "27762  461.0  639.0  \n",
       "27763  538.0  654.0  \n",
       "27764  495.0  603.0  \n",
       "27765  380.0  485.0  \n",
       "27766  652.0  731.0  \n",
       "\n",
       "[27767 rows x 13 columns]"
      ]
     },
     "execution_count": 23,
     "metadata": {},
     "output_type": "execute_result"
    }
   ],
   "source": [
    "#filtramos en df2 todas las variables independientes a contaminantes)\n",
    "df2 = df\n",
    "#Quitamos los contaminantes que tienen una correlacion alta y derivan del mismo\n",
    "#Como los NOx o NO además de la fechah, tipo y la suma de estaciones. \n",
    "df2 = df2.drop(['NO', 'NOx', 'FECHAH', 'TIPO', 'ESSUMA'], axis=1)\n",
    "df2['ES10'] = df2['ES10'].shift(1)\n",
    "df2['ES53'] = df2['ES53'].shift(1)\n",
    "first_colum = df2.pop('NO2')\n",
    "df2.insert(0, 'NO2', first_colum)\n",
    "df2"
   ]
  },
  {
   "cell_type": "code",
   "execution_count": 24,
   "id": "ba3ffffc-37c0-459a-9bba-5339fa5ab84f",
   "metadata": {},
   "outputs": [
    {
     "name": "stdout",
     "output_type": "stream",
     "text": [
      "Rmse: 8.806958435019384 MAE: 6.277955903564806\n"
     ]
    }
   ],
   "source": [
    "#Añadimos a df2 la columna correspondiente a NO2\n",
    "#df2[\"NO2\"] = df[\"NO2\"]\n",
    "\n",
    "#Eliminamos las filas que contengan valores nulos y guardamos en df3\n",
    "df3 = df2.dropna()\n",
    "\n",
    "#asignamos a la y la columna de NO2 el resto a la x \n",
    "y = df3.NO2\n",
    "X = df3.iloc[:,1:]\n",
    "\n",
    "regr = RandomForestRegressor(max_depth=70, n_estimators =100, random_state=0)\n",
    "\n",
    "#Dividimos el model de entrenamiento y test\n",
    "X_train, X_test, y_train, y_test = train_test_split( X, y, test_size=0.33, random_state=42)\n",
    "modelo = regr.fit(X_train, y_train)\n",
    "y_pred = modelo.predict(X_test)\n",
    "\n",
    "#Calculamos el RMSE y MAE (rmse El error)\n",
    "rmse = mean_squared_error(y_test, y_pred, squared=False)\n",
    "mae = mean_absolute_error(y_test, y_pred)\n",
    "print(\"Rmse:\",rmse,\"MAE:\",mae)"
   ]
  },
  {
   "cell_type": "code",
   "execution_count": 25,
   "id": "7bfe9d33-a5b0-4740-9f4c-faf50906daae",
   "metadata": {},
   "outputs": [
    {
     "data": {
      "text/plain": [
       "(14705, 9852, 4853)"
      ]
     },
     "execution_count": 25,
     "metadata": {},
     "output_type": "execute_result"
    }
   ],
   "source": [
    "len(X),len(X_train),len(X_test)"
   ]
  },
  {
   "cell_type": "code",
   "execution_count": 26,
   "id": "e693902e-0a6a-4916-ae57-b1f0c5b24e0b",
   "metadata": {},
   "outputs": [],
   "source": [
    "y_pred = modelo.predict(X_test)\n",
    "ys = list(zip(list(y_test),list(y_pred)))"
   ]
  },
  {
   "cell_type": "markdown",
   "id": "d8ba6de0-5ac5-4304-b36a-6a313cefff9c",
   "metadata": {},
   "source": [
    "##### Representacion grafica de Random Forest\n",
    "Se puede apreciar en la grafica que si se añaden el resto de contaminantes, excluyendo el NO y NOx puede predecir de forma eficiente el comportamiento de la contaminación"
   ]
  },
  {
   "cell_type": "code",
   "execution_count": 27,
   "id": "6cb29aae-fbfd-4e47-8f64-013670a842f1",
   "metadata": {},
   "outputs": [
    {
     "data": {
      "image/png": "[encoded data removed]",
      "text/plain": [
       "<Figure size 400x400 with 1 Axes>"
      ]
     },
     "metadata": {
      "needs_background": "light"
     },
     "output_type": "display_data"
    }
   ],
   "source": [
    "cuantos = 100\n",
    "ypred = y_pred[:cuantos]\n",
    "ylabel = list(y_test)[:cuantos]\n",
    "x = list(range(len(ylabel)))\n",
    "plt.rcParams[\"font.size\"] = 10\n",
    "figure, ax = plt.subplots(1,figsize=(4, 4),dpi=100)    \n",
    "for i in range(len(x)):\n",
    "    plt.plot([x[i],x[i]],[ypred[i],ylabel[i]],color=\"darkorange\")\n",
    "\n",
    "plt.scatter(x,ypred, color='blue', label=\"pred\",s=8)\n",
    "plt.scatter(x,ylabel, color='green', label=\"label\",s=4)\n",
    "\n",
    "\n",
    "plt.xlabel('x')\n",
    "plt.ylabel('y')\n",
    "plt.legend()\n",
    "plt.show()"
   ]
  }
 ],
 "metadata": {
  "kernelspec": {
   "display_name": "Python 3 (ipykernel)",
   "language": "python",
   "name": "python3"
  },
  "language_info": {
   "codemirror_mode": {
    "name": "ipython",
    "version": 3
   },
   "file_extension": ".py",
   "mimetype": "text/x-python",
   "name": "python",
   "nbconvert_exporter": "python",
   "pygments_lexer": "ipython3",
   "version": "3.7.4"
  }
 },
 "nbformat": 4,
 "nbformat_minor": 5
}
