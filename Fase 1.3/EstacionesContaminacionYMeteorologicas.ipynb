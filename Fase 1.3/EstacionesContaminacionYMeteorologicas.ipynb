{
 "cells": [
  {
   "cell_type": "markdown",
   "metadata": {},
   "source": [
    "### Extracción de estaciones meteorologicas y de contaminacion situadas en el mismo lugar.\n",
    "###### Representa las estaciones que coinciden en latitud y longitud y además se muestran las distintas variables que toman las estaciones.\n"
   ]
  },
  {
   "cell_type": "code",
   "execution_count": 1,
   "metadata": {},
   "outputs": [
    {
     "name": "stdout",
     "output_type": "stream",
     "text": [
      "Indique donde se encuentra el area de trabajo del proyecto.\n"
     ]
    },
    {
     "name": "stdin",
     "output_type": "stream",
     "text": [
      " C:/Users/Alberto/Anaconda Python\n"
     ]
    },
    {
     "name": "stdout",
     "output_type": "stream",
     "text": [
      "Ruta: C:/Users/Alberto/Anaconda Python\n"
     ]
    }
   ],
   "source": [
    "import pandas as pd\n",
    "print(\"Indique donde se encuentra el area de trabajo del proyecto.\")\n",
    "path = input()\n",
    "print(\"Ruta: \" + path)"
   ]
  },
  {
   "cell_type": "code",
   "execution_count": 2,
   "metadata": {},
   "outputs": [
    {
     "name": "stdout",
     "output_type": "stream",
     "text": [
      "Estaciones que coinciden en latitud y longitud:\n",
      "                ESTACION CODIGO_CORTO NO2  SO2   CO PM10 PM2_5   O3  BTX\n",
      "0         Pza. de España            4   X    X    X  NaN   NaN  NaN  NaN\n",
      "1       Escuelas Aguirre            8   X    X    X    X     X    X    X\n",
      "2           Arturo Soria           16   X  NaN  NaN  NaN   NaN    X  NaN\n",
      "3              Farolillo           18   X    X    X    X   NaN    X    X\n",
      "4          Casa de Campo           24   X  NaN  NaN    X     X    X    X\n",
      "5        Pza. del Carmen           35   X    X    X  NaN   NaN    X  NaN\n",
      "6              Moratalaz           36   X    X  NaN    X   NaN  NaN  NaN\n",
      "7         Cuatro Caminos           38   X  NaN  NaN    X     X  NaN    X\n",
      "8       Barrio del Pilar           39   X  NaN  NaN  NaN   NaN    X  NaN\n",
      "9   Ensanche de Vallecas           54   X  NaN  NaN  NaN   NaN    X  NaN\n",
      "10         Pza. Elíptica           56   X  NaN    X    X     X    X  NaN\n",
      "11              El Pardo           58   X  NaN  NaN  NaN   NaN    X  NaN\n",
      "12         Juan Carlos I           59   X  NaN  NaN  NaN   NaN    X  NaN\n",
      " \n",
      "                ESTACION CODIGO_CORTO VV (81) DV (82) T (83) HR (86) PB (87)  \\\n",
      "0           Plaza España            4     NaN     NaN      X     NaN     NaN   \n",
      "1       Escuelas Aguirre            8     NaN     NaN      X       X     NaN   \n",
      "2           Arturo Soria           16     NaN     NaN      X       X     NaN   \n",
      "3              Farolillo           18     NaN     NaN      X     NaN     NaN   \n",
      "4          Casa de Campo           24       X       X      X       X       X   \n",
      "5       Plaza del Carmen           35     NaN     NaN      X       X     NaN   \n",
      "6              Moratalaz           36     NaN     NaN      X       X     NaN   \n",
      "7         Cuatro Caminos           38     NaN     NaN      X       X     NaN   \n",
      "8       Barrio del Pilar           39     NaN     NaN      X       X     NaN   \n",
      "9   Ensanche de Vallecas           54       X       X      X       X     NaN   \n",
      "10        Plaza Elíptica           56       X       X      X       X       X   \n",
      "11              El Pardo           58     NaN     NaN      X       X     NaN   \n",
      "12         Juan Carlos I           59       X       X      X       X       X   \n",
      "\n",
      "   RS (88) P (89)  \n",
      "0      NaN    NaN  \n",
      "1      NaN    NaN  \n",
      "2      NaN    NaN  \n",
      "3      NaN    NaN  \n",
      "4        X      X  \n",
      "5      NaN    NaN  \n",
      "6      NaN    NaN  \n",
      "7      NaN    NaN  \n",
      "8      NaN      X  \n",
      "9        X      X  \n",
      "10     NaN      X  \n",
      "11     NaN    NaN  \n",
      "12       X      X  \n"
     ]
    }
   ],
   "source": [
    "dfContaminacion= pd.read_csv(path+\"/Contaminacion/\"+\"EstacionesContaminacion.csv\", sep=\";\", encoding='latin-1')\n",
    "dfMeteorologicas = pd.read_csv(path+\"/Meteorologia/\"+\"EstacionesMeteorologicas.csv\", sep=\";\", encoding='latin-1')\n",
    "\n",
    "colNameCont = [\"ESTACION\",\"CODIGO_CORTO\",\"NO2\", \"SO2\", \"CO\", \"PM10\", \"PM2_5\", \"O3\", \"BTX\"]\n",
    "dfCont = pd.DataFrame(columns = colNameCont)\n",
    "\n",
    "colNameMet = [\"ESTACION\",\"CODIGO_CORTO\", \"VV (81)\", \"DV (82)\", \"T (83)\", \"HR (86)\", \"PB (87)\", \"RS (88)\", \"P (89)\"]\n",
    "dfMet = pd.DataFrame(columns = colNameMet)\n",
    "\n",
    "for indice, contFila in dfContaminacion.iterrows():\n",
    "    for indice, metFila in dfMeteorologicas.iterrows():\n",
    "        if contFila[\"LATITUD_ETRS89\"] == metFila[\"LATITUD_ETRS89\"] and contFila[\"LONGITUD_ETRS89\"] == metFila[\"LONGITUD_ETRS89\"]:\n",
    "            nueva_fila = {\"ESTACION\": contFila[\"ESTACION\"], \"CODIGO_CORTO\": contFila[\"CODIGO_CORTO\"], \"NO2\": contFila[\"NO2\"], \"SO2\": contFila[\"SO2\"], \"CO\": contFila[\"CO\"], \"PM10\": contFila[\"PM10\"], \"PM2_5\": contFila[\"PM2_5\"], \"O3\": contFila[\"O3\"], \"BTX\": contFila[\"BTX\"]}\n",
    "            dfCont = dfCont.append(nueva_fila, ignore_index=True)\n",
    "            \n",
    "            nueva_fila = {\"ESTACION\": metFila[\"ESTACIÓN\"], \"CODIGO_CORTO\": contFila[\"CODIGO_CORTO\"], \"VV (81)\": metFila[\"VV (81)\"], \"DV (82)\": metFila[\"DV (82)\"], \"T (83)\": metFila[\"T (83)\"], \"HR (86)\": metFila[\"HR (86)\"], \"PB (87)\": metFila[\"PB (87)\"], \"RS (88)\": metFila[\"RS (88)\"], \"P (89)\": metFila[\"P (89)\"]}\n",
    "            dfMet = dfMet.append(nueva_fila, ignore_index=True)\n",
    "print(\"Estaciones que coinciden en latitud y longitud:\")\n",
    "print(dfCont)\n",
    "print( \" \")\n",
    "print(dfMet)"
   ]
  },
  {
   "cell_type": "markdown",
   "metadata": {},
   "source": [
    "### Extracción de datos de la estación de PLAZA ELIPTICA.\n",
    "###### Como acordamos en la reunión nos quedaremos con los datos de la estación de Plaza Elíptica dado que es única que tiene en cuenta el máximo numero de variables tanto climatológicas como de contaminantes.\n",
    "###### El codigo de la estación de Plaza Elíptica será el 56 como se ha extraido anteriormente."
   ]
  },
  {
   "cell_type": "code",
   "execution_count": 4,
   "metadata": {},
   "outputs": [],
   "source": [
    "# La estacion seleccionada es plaza Elíptica con el CODIGO_CORTO 56\n",
    "# Si se desea filtrar por otra estacion se modificaria la variable CODIGO_CORTO al de la estacion deseada.\n",
    "CODIGO_CORTO = 56"
   ]
  },
  {
   "cell_type": "code",
   "execution_count": 5,
   "metadata": {},
   "outputs": [],
   "source": [
    "import pandas as pd\n",
    "import os\n",
    "os.makedirs(path + \"/PlazaEliptica\", exist_ok=True)\n",
    "dfContaminacion= pd.read_csv(path+\"/Contaminacion/\"+\"ArchivoContaminacion.csv\", delimiter=',') ###Hasta aqui bien.\n",
    "#print(dfContaminacion.loc[dfContaminacion[\"ESTACION\"] == CODIGO_CORTO])\n",
    "\n",
    "df_plazaEliptica = pd.DataFrame()\n",
    "df_plazaEliptica = dfContaminacion.loc[dfContaminacion[\"ESTACION\"] == CODIGO_CORTO]\n",
    "df_plazaEliptica.to_csv(path+\"/PlazaEliptica/\"+\"ContaminacionPlazaElimtica.csv\", header=True, index=False, encoding=\"utf-8\")"
   ]
  },
  {
   "cell_type": "code",
   "execution_count": 6,
   "metadata": {},
   "outputs": [],
   "source": [
    "dfMeteorologicas= pd.read_csv(path+\"/Meteorologia/\"+\"ArchivoMeteorologia.csv\",delimiter=',') ###Hasta aqui bien.\n",
    "##print(dfContaminacion.loc[dfContaminacion[\"ESTACION\"] == CODIGO_CORTO])\n",
    "\n",
    "df_plazaEliptica = pd.DataFrame()\n",
    "df_plazaEliptica = dfMeteorologicas.loc[dfMeteorologicas[\"ESTACION\"] == CODIGO_CORTO]\n",
    "##print(df_plazaEliptica)\n",
    "df_plazaEliptica.to_csv(path+\"/PlazaEliptica/\"+\"MeteorologiaPlazaElimtica.csv\", header=True, index=False, encoding=\"utf-8\")"
   ]
  },
  {
   "cell_type": "code",
   "execution_count": null,
   "metadata": {},
   "outputs": [],
   "source": []
  }
 ],
 "metadata": {
  "kernelspec": {
   "display_name": "Python 3",
   "language": "python",
   "name": "python3"
  },
  "language_info": {
   "codemirror_mode": {
    "name": "ipython",
    "version": 3
   },
   "file_extension": ".py",
   "mimetype": "text/x-python",
   "name": "python",
   "nbconvert_exporter": "python",
   "pygments_lexer": "ipython3",
   "version": "3.7.4"
  }
 },
 "nbformat": 4,
 "nbformat_minor": 4
}
