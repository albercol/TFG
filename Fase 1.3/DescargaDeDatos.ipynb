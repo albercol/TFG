{
 "cells": [
  {
   "cell_type": "code",
   "execution_count": 2,
   "metadata": {},
   "outputs": [
    {
     "name": "stdout",
     "output_type": "stream",
     "text": [
      "¿Desea introducir una ruta de trabajo? (Escriba si o no)\n",
      "si selecciona NO el programa se ejecurá donde este guardado este fichero.\n"
     ]
    },
    {
     "name": "stdin",
     "output_type": "stream",
     "text": [
      " n\n"
     ]
    },
    {
     "name": "stdout",
     "output_type": "stream",
     "text": [
      "Ruta: C:\\Users\\Alberto\\Anaconda Python\n"
     ]
    }
   ],
   "source": [
    "#Cargar bibliotecas necesarias y especificar ruta de trabajo.\n",
    "import requests\n",
    "from bs4 import BeautifulSoup\n",
    "import csv\n",
    "from datetime import datetime\n",
    "import os\n",
    "import pandas as pd\n",
    "import glob\n",
    "import zipfile\n",
    "import requests\n",
    "\n",
    "\n",
    "print(\"¿Desea introducir una ruta de trabajo? (Escriba si o no)\")\n",
    "print(\"si selecciona NO el programa se ejecurá donde este guardado este fichero.\")\n",
    "selectRuta = input()\n",
    "selectRuta = selectRuta.lower()\n",
    "\n",
    "if selectRuta == \"si\" or selectRuta == \"s\" or selectRuta == \"yes\" or selectRuta == \"y\":\n",
    "    print(\"introduzca la ruta deseada: \")\n",
    "    path = input()\n",
    "    print(\"Ruta: \" + path)\n",
    "elif selectRuta == \"no\" or selectRuta == \"n\":\n",
    "    path = os.getcwd()\n",
    "    print(\"Ruta: \" + path)"
   ]
  },
  {
   "cell_type": "code",
   "execution_count": 3,
   "metadata": {},
   "outputs": [],
   "source": [
    "def concatCSVs(path, tipoArchivo, output):\n",
    "    df = pd.DataFrame()\n",
    "    file_list = []\n",
    "    all_files = glob.glob(path + tipoArchivo + \".csv\")\n",
    "    for f in all_files:\n",
    "        data = pd.read_csv(f, delimiter=';')\n",
    "        nombre = os.path.basename(f)\n",
    "        data['source_file'] = nombre\n",
    "        file_list.append(data)\n",
    "    df = pd.concat(file_list)\n",
    "    df.to_csv(path + output, encoding=\"utf-8\")  #--------------->Mirar el formato: \n",
    "                              #DataFrame.to_csv(path_or_buf=None, sep=',', na_rep='', float_format=None, columns=None, header=True, \n",
    "                              #index=True, index_label=None, mode='w', encoding=None, compression='infer', quoting=None, quotechar='\"', \n",
    "                              #line_terminator=None, chunksize=None, date_format=None, doublequote=True, escapechar=None, decimal='.', \n",
    "                              #errors='strict', storage_options=None)\n",
    "\n",
    "def concatCSVsTRF(path, tipoArchivo, output):\n",
    "    df = pd.DataFrame()\n",
    "    file_list = []\n",
    "    all_files = glob.glob(path+ tipoArchivo +\".csv\")\n",
    "    for f in all_files:\n",
    "        data = pd.read_csv(f, delimiter=';',encoding='unicode_escape') #encoding='unicode_escape'\n",
    "        nombre = os.path.basename(f)\n",
    "        data['source_file'] = nombre\n",
    "        file_list.append(data)\n",
    "    df = pd.concat(file_list, sort=True)\n",
    "    df.to_csv(path + output, encoding=\"utf-8\") #--------------->Mirar el formato: \n",
    "                              #DataFrame.to_csv(path_or_buf=None, sep=',', na_rep='', float_format=None, columns=None, header=True, \n",
    "                              #index=True, index_label=None, mode='w', encoding=None, compression='infer', quoting=None, quotechar='\"', \n",
    "                              #line_terminator=None, chunksize=None, date_format=None, doublequote=True, escapechar=None, decimal='.', \n",
    "                              #errors='strict', storage_options=None)\n",
    "    \n",
    "def descompresionDeArchivosCSV(path):\n",
    "    all_files = glob.glob(path+\"ACA_*\")\n",
    "    for archivo in all_files:\n",
    "        z = zipfile.ZipFile(archivo, \"r\")\n",
    "        z.extractall(path)\n",
    "        z.close()\n",
    "        \n",
    "def limpiezeDeArchivos(path, tipo): #path indica la rita u tipo el archivo\n",
    "    all_files = glob.glob(path + tipo)\n",
    "    for archivo in all_files:\n",
    "        os.remove(archivo)"
   ]
  },
  {
   "cell_type": "markdown",
   "metadata": {},
   "source": [
    "### Descarga de ficheros meteorológicos:\n",
    "Algoritmo de scraping para la web del ayuntamiento de Madrid para la obtención de documentos csv \n",
    "cuyo contenidos son los datos meteorológicos diarios desde 2019 hasta 2021 (aun sin concluir).\n",
    "\n",
    "Pagina donde se extraen los datos: \n",
    "https://datos.madrid.es/sites/v/index.jsp?vgnextoid=fa8357cec5efa610VgnVCM1000001d4a900aRCRD&vgnextchannel=374512b9ace9f310VgnVCM100000171f5a0aRCRD"
   ]
  },
  {
   "cell_type": "code",
   "execution_count": 4,
   "metadata": {},
   "outputs": [],
   "source": [
    "# crear la carpeta de Meteorologáa, se pone exist_ok por si existe que no de error\n",
    "os.makedirs(path + \"/Meteorologia\", exist_ok=True)\n",
    "\n",
    "# indicar la ruta Archivos Meteorologicos.\n",
    "url_page = 'https://datos.madrid.es/sites/v/index.jsp?vgnextoid=fa8357cec5efa610VgnVCM1000001d4a900aRCRD&vgnextchannel=374512b9ace9f310VgnVCM100000171f5a0aRCRD'\n",
    "fileType = '.csv'\n",
    "domain = 'https://datos.madrid.es/'\n",
    "page = requests.get(url_page).text \n",
    "soup = BeautifulSoup(page, \"lxml\")\n",
    "\n",
    "#se generan los archivos meteorológicos.\n",
    "i = 0\n",
    "for link in soup('a'):\n",
    "        link_file = link.get('href')\n",
    "        if None != link_file and fileType in link_file:\n",
    "            nombre = \"METEO_\" + str(i) + \".csv\"\n",
    "            with open(path + \"/Meteorologia/\" + nombre, 'wb') as file:\n",
    "                response = requests.get(domain + link_file)\n",
    "                file.write(response.content)\n",
    "            i+=1\n",
    "                      \n",
    "# Unión de todos los .csv en uno solo.\n",
    "output = \"ArchivoMeteorologia.csv\"\n",
    "concatCSVs(path+\"/Meteorologia/\", \"METEO_*\",output) #funcion para concatenar todos los archivos csv del clima en un inico archivo."
   ]
  },
  {
   "cell_type": "markdown",
   "metadata": {},
   "source": [
    "### Descarga de ficheros del tráfico:\n",
    "Algoritmo de scraping para la web del ayuntamiento de Madrid para la obtención de documentos csv \n",
    "cuyo contenidos son los datos del trafico diarios desde 2019 hasta 2021 (aun sin concluir).\n",
    "\n",
    "Página donde se extraen los datos: \n",
    "https://datos.madrid.es/portal/site/egob/menuitem.c05c1f754a33a9fbe4b2e4b284f1a5a0/?vgnextoid=fabbf3e1de124610VgnVCM2000001f4a900aRCRD&vgnextchannel=374512b9ace9f310VgnVCM100000171f5a0aRCRD&vgnextfmt=default"
   ]
  },
  {
   "cell_type": "code",
   "execution_count": 5,
   "metadata": {},
   "outputs": [],
   "source": [
    "# crear la carpeta de Meteorologáa, se pone exist_ok por si existe que no de error\n",
    "os.makedirs(path + \"/Trafico\", exist_ok=True)\n",
    "\n",
    "# indicar la ruta\n",
    "url_page = 'https://datos.madrid.es/portal/site/egob/menuitem.c05c1f754a33a9fbe4b2e4b284f1a5a0/?vgnextoid=fabbf3e1de124610VgnVCM2000001f4a900aRCRD&vgnextchannel=374512b9ace9f310VgnVCM100000171f5a0aRCRD&vgnextfmt=default'\n",
    "fileType = '.csv'\n",
    "domain = 'https://datos.madrid.es/'\n",
    "page = requests.get(url_page).text \n",
    "soup = BeautifulSoup(page, \"lxml\")\n",
    "\n",
    "#se genera los archivos tráfico\n",
    "i = 33 #12 * 2 (2019-2020) + 9 (de 2021)\n",
    "for link in soup('a'):\n",
    "    if i > 0: #--------------------------> para extraer solo hasta el 2019.\n",
    "        link_file = link.get('href')\n",
    "        if None != link_file and fileType in link_file:\n",
    "            nombre = \"TRF_\" + str(i) + \".csv\"\n",
    "            with open(path + \"/Trafico/\" + nombre, 'wb') as file:\n",
    "                response = requests.get(domain + link_file)\n",
    "                file.write(response.content)\n",
    "            i-=1\n",
    "            \n",
    "# Unión de todos los .csv en uno solo.\n",
    "output = \"ArchivoTrafico.csv\"\n",
    "concatCSVsTRF(path+\"/Trafico/\", \"TRF_*\",output) #funcion para concatenar todos los archivos csv de trafico en un único archivo."
   ]
  },
  {
   "cell_type": "markdown",
   "metadata": {},
   "source": [
    "### Descarga de ficheros de contaminación:\n",
    "Pagina donde se obtienen los datos: https://datos.madrid.es/portal/site/egob/menuitem.c05c1f754a33a9fbe4b2e4b284f1a5a0/?vgnextoid=f3c0f7d512273410VgnVCM2000000c205a0aRCRD&vgnextchannel=374512b9ace9f310VgnVCM100000171f5a0aRCRD&vgnextfmt=default"
   ]
  },
  {
   "cell_type": "code",
   "execution_count": 6,
   "metadata": {},
   "outputs": [],
   "source": [
    "# crear la carpeta de Meteorologáa, se pone exist_ok por si existe que no de error\n",
    "os.makedirs(path + \"/Contaminacion\", exist_ok=True)\n",
    "\n",
    "# indicar la ruta\n",
    "url_page = 'https://datos.madrid.es/portal/site/egob/menuitem.c05c1f754a33a9fbe4b2e4b284f1a5a0/?vgnextoid=f3c0f7d512273410VgnVCM2000000c205a0aRCRD&vgnextchannel=374512b9ace9f310VgnVCM100000171f5a0aRCRD&vgnextfmt=default'\n",
    "fileType = '.zip'\n",
    "page = requests.get(url_page).text \n",
    "soup = BeautifulSoup(page, \"lxml\")\n",
    "\n",
    "#se genera los archivos ACA... (Archivo de Calidad del Aire)\n",
    "import datetime\n",
    "i = datetime.date.today().year\n",
    "for link in soup('a'):\n",
    "    if i > 2018: #--------------------------> para extraer solo hasta el 2019.\n",
    "        link_file = link.get('href')\n",
    "        if None != link_file and fileType in link_file:\n",
    "            nombre = \"ACA_\" + str(i) + \".zip\"\n",
    "            with open(path + \"/Contaminacion/\" + nombre, 'wb') as file:\n",
    "                response = requests.get(domain + link_file)\n",
    "                file.write(response.content)\n",
    "            i-=1\n",
    "            \n",
    "#Descompresión de los archivos comprimidos descargados\n",
    "descompresionDeArchivosCSV(path+\"/Contaminacion/\")\n",
    "tipos = [\".xml\", \".txt\",\".zip\"]\n",
    "for tipo in tipos:\n",
    "    limpiezeDeArchivos(path+\"/Contaminacion/*\", tipo)\n",
    "    \n",
    "#Unión de todos los .csv en uno solo.   \n",
    "output = \"ArchivoContaminacion.csv\"\n",
    "concatCSVs(path+\"/Contaminacion/\", \"*\",output) #funcion para concatenar todos los archivos csv de calidad del aire en un único archivo."
   ]
  },
  {
   "cell_type": "markdown",
   "metadata": {},
   "source": [
    "### Descarga de informacion localizacion de estaciones de calidad del Aire y Meterorologícas.\n",
    "\n",
    "###### Estaciones de control Contaminación: https://datos.madrid.es/portal/site/egob/menuitem.c05c1f754a33a9fbe4b2e4b284f1a5a0/?vgnextoid=9e42c176313eb410VgnVCM1000000b205a0aRCRD&vgnextchannel=374512b9ace9f310VgnVCM100000171f5a0aRCRD&vgnextfmt=default\n",
    "###### Estaciones de control Climatología: https://datos.madrid.es/portal/site/egob/menuitem.c05c1f754a33a9fbe4b2e4b284f1a5a0/?vgnextoid=2ac5be53b4d2b610VgnVCM2000001f4a900aRCRD&vgnextchannel=374512b9ace9f310VgnVCM100000171f5a0aRCRD&vgnextfmt=default"
   ]
  },
  {
   "cell_type": "code",
   "execution_count": 7,
   "metadata": {},
   "outputs": [],
   "source": [
    "#Código para estaciones de contaminación\n",
    "url = \"https://datos.madrid.es/egob/catalogo/212629-1-estaciones-control-aire.csv\"\n",
    "response = requests.get(url)\n",
    "\n",
    "# lo grabamos en formato csv\n",
    "f = open(path+\"/Contaminacion/\"+'EstacionesContaminacion.csv', 'wb')\n",
    "f.write(response.content)\n",
    "f.close()\n",
    "\n",
    "#Código para estaciones meteorológicas\n",
    "url = \"https://datos.madrid.es/egob/catalogo/300360-1-meteorologicos-estaciones.csv\"\n",
    "response = requests.get(url)\n",
    "\n",
    "# lo grabamos en formato csv\n",
    "f = open(path+\"/Meteorologia/\"+'EstacionesMeteorologicas.csv', 'wb')\n",
    "f.write(response.content)\n",
    "f.close()"
   ]
  }
 ],
 "metadata": {
  "kernelspec": {
   "display_name": "Python 3",
   "language": "python",
   "name": "python3"
  },
  "language_info": {
   "codemirror_mode": {
    "name": "ipython",
    "version": 3
   },
   "file_extension": ".py",
   "mimetype": "text/x-python",
   "name": "python",
   "nbconvert_exporter": "python",
   "pygments_lexer": "ipython3",
   "version": "3.7.4"
  }
 },
 "nbformat": 4,
 "nbformat_minor": 4
}
